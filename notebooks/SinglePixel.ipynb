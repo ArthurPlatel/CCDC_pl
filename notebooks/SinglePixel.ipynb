{
 "cells": [
  {
   "cell_type": "code",
   "execution_count": 1,
   "source": [
    "#Imports for CCD\n",
    "from osgeo import gdal\n",
    "import os\n",
    "import sys\n",
    "module_path = os.path.abspath(os.path.join('..'))\n",
    "if module_path not in sys.path:\n",
    "    sys.path.insert(0, module_path)\n",
    "import matplotlib.pyplot as plt\n",
    "import matplotlib.dates as mdates\n",
    "from datetime import date\n",
    "import numpy as np\n",
    "%matplotlib inline\n",
    "import ccd\n",
    "\n",
    "#import ccd.classification as cls\n"
   ],
   "outputs": [],
   "metadata": {}
  },
  {
   "cell_type": "code",
   "execution_count": 2,
   "source": [
    "pixel_x=930  #6       # 931 \n",
    "pixel_y=604 #802 #803   #534\n",
    "sample_size=3\n",
    "parent_dir='/Users/arthur.platel/Desktop/Fusion_Images/Imperial_Subset'\n",
    "#parent_dir='/Users/arthur.platel/Desktop/Fusion_Images/dekalbCorn/PF-SR'\n",
    "#parent_dir='/Users/arthur.platel/Desktop/Fusion_Images/Imperialv2/PF-SR/SingleYear'\n",
    "#parent_dir='/Users/arthur.platel/Desktop/Fusion_Images/Imperialv2/PF-SR'\n",
    "#parent_dir='/Users/arthur.platel/Desktop/Fusion_Images/hoh_river/PF-SR'\n",
    "#parent_dir = '/Users/arthur.platel/Desktop/Fusion_Images/CZU_FireV2'\n",
    "#parent_dir='/Users/arthur.platel/Desktop/Fusion_Images/SantaCruz_NoFire'\n",
    "#parent_dir='/Users/arthur.platel/Desktop/Fusion_Images/CZU_FireV2'\n",
    "#parent_dir='/Users/arthur.platel/Desktop/Fusion_Images/hospital/PF-SR'\n",
    "#parent_dir='/Users/arthur.platel/Desktop/Fusion_Images/deforestationV2/PF-SR'\n",
    "#parent_dir='/Users/arthur.platel/Desktop/Fusion_Images/Red_river/PF-SR'"
   ],
   "outputs": [],
   "metadata": {}
  },
  {
   "cell_type": "code",
   "execution_count": 3,
   "source": [
    "from ccd import data_input\n",
    "\n",
    "#import data from images\n",
    "data = data_input.get_data(parent_dir,pixel_x,pixel_y,sample_size)\n",
    "dates, blues, greens, reds, nirs, ndvis, ndwis, qas = data\n",
    "\n",
    "params = {'QA_BITPACKED': False,\n",
    "              'QA_FILL': 255,\n",
    "              'QA_CLEAR': 0,\n",
    "              'QA_WATER': 1,\n",
    "              'QA_SHADOW': 2,\n",
    "              'QA_SNOW': 3,\n",
    "              'QA_CLOUD': 4}\n"
   ],
   "outputs": [],
   "metadata": {}
  },
  {
   "cell_type": "code",
   "execution_count": 4,
   "source": [
    "#calculate results using ccd\n",
    "results = ccd.detect(dates, blues, greens, reds, nirs, ndvis, ndwis, qas, params, True)\n",
    "#print(\"pixel {} has {}\".format((pixel_x,pixel_y),results['change_models']))\n"
   ],
   "outputs": [
    {
     "output_type": "error",
     "ename": "TypeError",
     "evalue": "detect() takes from 8 to 9 positional arguments but 10 were given",
     "traceback": [
      "\u001b[0;31m---------------------------------------------------------------------------\u001b[0m",
      "\u001b[0;31mTypeError\u001b[0m                                 Traceback (most recent call last)",
      "\u001b[0;32m/var/folders/2z/1nrgnypj77l8fzt2ybvcrf580000gp/T/ipykernel_3400/329680479.py\u001b[0m in \u001b[0;36m<module>\u001b[0;34m\u001b[0m\n\u001b[1;32m      1\u001b[0m \u001b[0;31m#calculate results using ccd\u001b[0m\u001b[0;34m\u001b[0m\u001b[0;34m\u001b[0m\u001b[0;34m\u001b[0m\u001b[0m\n\u001b[0;32m----> 2\u001b[0;31m \u001b[0mresults\u001b[0m \u001b[0;34m=\u001b[0m \u001b[0mccd\u001b[0m\u001b[0;34m.\u001b[0m\u001b[0mdetect\u001b[0m\u001b[0;34m(\u001b[0m\u001b[0mdates\u001b[0m\u001b[0;34m,\u001b[0m \u001b[0mblues\u001b[0m\u001b[0;34m,\u001b[0m \u001b[0mgreens\u001b[0m\u001b[0;34m,\u001b[0m \u001b[0mreds\u001b[0m\u001b[0;34m,\u001b[0m \u001b[0mnirs\u001b[0m\u001b[0;34m,\u001b[0m \u001b[0mndvis\u001b[0m\u001b[0;34m,\u001b[0m \u001b[0mndwis\u001b[0m\u001b[0;34m,\u001b[0m \u001b[0mqas\u001b[0m\u001b[0;34m,\u001b[0m \u001b[0mparams\u001b[0m\u001b[0;34m,\u001b[0m \u001b[0;32mTrue\u001b[0m\u001b[0;34m)\u001b[0m\u001b[0;34m\u001b[0m\u001b[0;34m\u001b[0m\u001b[0m\n\u001b[0m\u001b[1;32m      3\u001b[0m \u001b[0;31m#print(\"pixel {} has {}\".format((pixel_x,pixel_y),results['change_models']))\u001b[0m\u001b[0;34m\u001b[0m\u001b[0;34m\u001b[0m\u001b[0;34m\u001b[0m\u001b[0m\n",
      "\u001b[0;31mTypeError\u001b[0m: detect() takes from 8 to 9 positional arguments but 10 were given"
     ]
    }
   ],
   "metadata": {}
  },
  {
   "cell_type": "code",
   "execution_count": null,
   "source": [
    "#classifier=cls.createClassifier()\n",
    "for seq in results[\"change_models\"]:\n",
    "    #lc=cls.classify(cls.toDF(seq),classifier)\n",
    "    #seq['landclass']=lc\n",
    "    print(seq)\n",
    "  \n",
    "\n"
   ],
   "outputs": [],
   "metadata": {}
  },
  {
   "cell_type": "code",
   "execution_count": null,
   "source": [
    "#Plot Results\n",
    "def plot(band,bands,results,dates):\n",
    "    predicted_values = []\n",
    "    prediction_dates = []\n",
    "    break_dates = []\n",
    "    start_dates = []\n",
    "    RMSE_values = []\n",
    "    mask = np.array(results['processing_mask'], dtype=bool)\n",
    "    new_dates=[]\n",
    "    dates2=[]\n",
    "    for k in dates:\n",
    "        if (date.fromordinal(int(k)).day==16 and date.fromordinal(int(k)).month)==6 or (date.fromordinal(int(k)).day==5 and date.fromordinal(int(k)).month==1) :\n",
    "            dates2.append(k)\n",
    "            new_dates.append(str(date.fromordinal(int(k))))\n",
    "\n",
    "    for num, result in enumerate(results['change_models']):\n",
    "        days = np.arange(result['start_day'], result['end_day'] + 1)\n",
    "        prediction_dates.append(days)\n",
    "        break_dates.append(result['break_day'])\n",
    "        start_dates.append(result['start_day'])\n",
    "        \n",
    "        intercept = result[band]['intercept']\n",
    "        coef = result[band]['coefficients']\n",
    "        rmse = result[band]['rmse']\n",
    "        \n",
    "        predicted_values.append(intercept + coef[0] * days +\n",
    "                                coef[1]*np.cos(days*1*2*np.pi/365.25) + coef[2]*np.sin(days*1*2*np.pi/365.25) +\n",
    "                                coef[3]*np.cos(days*2*2*np.pi/365.25) + coef[4]*np.sin(days*2*2*np.pi/365.25) +\n",
    "                                coef[5]*np.cos(days*3*2*np.pi/365.25) + coef[6]*np.sin(days*3*2*np.pi/365.25))\n",
    "        \n",
    "                         # coef[5]*np.cos(days*3*2*np.pi/180) + coef[6]*np.sin(days*3*2*np.pi/180))\n",
    "    #    predicted_values.append(intercept + coef[0] * days +\n",
    "    #                             coef[1]*np.cos(days*1*2*np.pi/180) + coef[2]*np.sin(days*1*2*np.pi/180) +\n",
    "    #                             coef[3]*np.cos(days*2*2*np.pi/180) + coef[4]*np.sin(days*2*2*np.pi/180) +\n",
    "              \n",
    "    plt.style.use('ggplot')\n",
    "    fg = plt.figure(figsize=(16,9), dpi=300)\n",
    "    #Removed y-axis value, but can standardize later\n",
    "    if band=='ndvi':\n",
    "        a1 = fg.add_subplot(2, 1, 1, xlim=(min(dates), max(dates)) )   \n",
    "    elif band=='nir':\n",
    "        a1 = fg.add_subplot(2, 1, 1, xlim=(min(dates), max(dates)))\n",
    "    else:\n",
    "        a1 = fg.add_subplot(2, 1, 1, xlim=(min(dates), max(dates)))\n",
    "\n",
    "    # for _preddate, _rmse in zip(prediction_dates, RMSE_values):\n",
    "    #     a1.plot(_preddate, _rmse, 'red', linewidth=1)\n",
    "\n",
    "    for _preddate, _predvalue in zip(prediction_dates, predicted_values):\n",
    "        a1.plot(_preddate, _predvalue, 'orange', linewidth=1)\n",
    "\n",
    "    # fg = plt.figure(figsize=(16,9), dpi=300)\n",
    "    # a1 = fg.add_subplot(2, 1, 1, xlim=(min(dates), max(dates)),ylim=(-3000, 3000))\n",
    "\n",
    "    #Predicted curves\n",
    "    for _preddate, _predvalue in zip(prediction_dates, predicted_values):\n",
    "        a1.plot(_preddate, _predvalue, 'orange', linewidth=2)\n",
    "\n",
    "    a1.plot(dates[mask], bands[mask], 'g+') # Observed values\n",
    "    a1.plot(dates[~mask], bands[~mask], 'b+') # Observed values masked out\n",
    "    for s in start_dates: a1.axvline(s, color='b')\n",
    "    for b in break_dates: a1.axvline(b, color='r')\n",
    "    plt.title(band)\n",
    "    plt.xticks(ticks=dates2,labels=new_dates)\n",
    "    return a1\n",
    "\n",
    "    \n",
    "bands = [\"blue\",\"green\",\"red\",\"nir\",\"ndvi\",'ndwi']\n",
    "for k in range(len(bands)):\n",
    "    plot(bands[k],data[k],results,dates)\n"
   ],
   "outputs": [],
   "metadata": {}
  },
  {
   "cell_type": "code",
   "execution_count": null,
   "source": [
    "#'end_day': 737821, 'break_day': 737832,\n",
    "# from scipy.stats import mode\n",
    "# for idx in range(dates.shape[0]):\n",
    "#         var = dates[1 + idx:] - dates[:-idx - 1]\n",
    "#         #print(mode(var)[0][0])\n",
    "#         diff = data[:, 1 + idx:] - data[:, :-idx - 1]\n",
    "#         print(diff)"
   ],
   "outputs": [],
   "metadata": {}
  },
  {
   "cell_type": "code",
   "execution_count": null,
   "source": [],
   "outputs": [],
   "metadata": {}
  },
  {
   "cell_type": "code",
   "execution_count": null,
   "source": [],
   "outputs": [],
   "metadata": {}
  },
  {
   "cell_type": "code",
   "execution_count": null,
   "source": [],
   "outputs": [],
   "metadata": {}
  },
  {
   "cell_type": "code",
   "execution_count": null,
   "source": [],
   "outputs": [],
   "metadata": {}
  }
 ],
 "metadata": {
  "interpreter": {
   "hash": "aee8b7b246df8f9039afb4144a1f6fd8d2ca17a180786b69acc140d282b71a49"
  },
  "kernelspec": {
   "name": "python3",
   "display_name": "Python 3.9.6 64-bit"
  },
  "language_info": {
   "codemirror_mode": {
    "name": "ipython",
    "version": 3
   },
   "file_extension": ".py",
   "mimetype": "text/x-python",
   "name": "python",
   "nbconvert_exporter": "python",
   "pygments_lexer": "ipython3",
   "version": "3.9.6"
  },
  "orig_nbformat": 4
 },
 "nbformat": 4,
 "nbformat_minor": 2
}