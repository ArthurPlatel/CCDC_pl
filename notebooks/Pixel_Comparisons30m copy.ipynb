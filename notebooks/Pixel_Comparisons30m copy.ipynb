{
 "cells": [
  {
   "cell_type": "code",
   "execution_count": 1,
   "source": [
    "#Imports for CCD\n",
    "from osgeo import gdal\n",
    "import os\n",
    "import sys\n",
    "module_path = os.path.abspath(os.path.join('..'))\n",
    "if module_path not in sys.path:\n",
    "    sys.path.insert(0, module_path)\n",
    "import matplotlib.pyplot as plt\n",
    "import matplotlib.dates as mdates\n",
    "from datetime import date\n",
    "import numpy as np\n",
    "%matplotlib inline\n",
    "import ccd\n",
    "\n"
   ],
   "outputs": [],
   "metadata": {}
  },
  {
   "cell_type": "code",
   "execution_count": 2,
   "source": [
    "#Inputs 1\n",
    "pixel_x1 =11\n",
    "pixel_y1 =29\n",
    "data1='fusion'\n",
    "sample_size1=30\n",
    "nth1=1\n",
    "\n",
    "parent_dir1='/Users/arthur.platel/Desktop/Fusion_Images/CZU_FireV2'\n"
   ],
   "outputs": [],
   "metadata": {}
  },
  {
   "cell_type": "code",
   "execution_count": 3,
   "source": [
    "# Input 2\n",
    "pixel_x2 =28\n",
    "pixel_y2 =57\n",
    "data2='force'\n",
    "sample_size2=30\n",
    "nth2=1\n",
    "parent_dir2='/Users/arthur.platel/Desktop/Fusion_Images/CZU_FireV2/Force_ALL'"
   ],
   "outputs": [],
   "metadata": {}
  },
  {
   "cell_type": "code",
   "execution_count": 4,
   "source": [
    "from ccd import data_input\n",
    "\n",
    "#import data from images\n",
    "data1 = data_input.get_data(parent_dir1,pixel_x1,pixel_y1,sample_size1,nth1,d=data1)\n",
    "dates, blues, greens, reds, nirs, ndvis, qas = data1\n",
    "\n",
    "data2 = data_input.get_data(parent_dir2,pixel_x2,pixel_y2,sample_size2,nth2,d\n",
    "=data2)\n",
    "dates2, blues2, greens2, reds2, nirs2, ndvis2, qas2 = data2\n",
    "\n",
    "params = {'QA_BITPACKED': False,\n",
    "              'QA_FILL': 255,\n",
    "              'QA_CLEAR': 0,\n",
    "              'QA_WATER': 1,\n",
    "              'QA_SHADOW': 2,\n",
    "              'QA_SNOW': 3,\n",
    "              'QA_CLOUD': 4}\n"
   ],
   "outputs": [
    {
     "output_type": "stream",
     "name": "stdout",
     "text": [
      "images used: 1272\n"
     ]
    }
   ],
   "metadata": {}
  },
  {
   "cell_type": "code",
   "execution_count": null,
   "source": [
    "#calculate results using ccd\n",
    "results1 = ccd.detect(dates, blues, greens, reds, nirs, ndvis, qas, params)\n",
    "results2 = ccd.detect(dates2, blues2, greens2, reds2, nirs2, ndvis2, qas2, params)\n",
    "\n"
   ],
   "outputs": [],
   "metadata": {}
  },
  {
   "cell_type": "code",
   "execution_count": null,
   "source": [
    "#print CCD output\n",
    "for seq in results1[\"change_models\"]:\n",
    "    print('break day',seq['break_day'])\n",
    "\n",
    "for seq in results2[\"change_models\"]:\n",
    "    print('break day',seq['break_day'])\n",
    "  \n",
    "\n"
   ],
   "outputs": [],
   "metadata": {}
  },
  {
   "cell_type": "code",
   "execution_count": null,
   "source": [
    "#Plot Results\n",
    "def plot(band,bands1,bands2,results1,results2,dates,dates2):\n",
    "    predicted_values = []\n",
    "    prediction_dates = []\n",
    "    break_dates = []\n",
    "    start_dates = []\n",
    "    mask = np.array(results1['processing_mask'], dtype=bool)\n",
    "    new_dates=[]\n",
    "    dates3=[]\n",
    "    for k in dates:\n",
    "        if (date.fromordinal(int(k)).day==16 and date.fromordinal(int(k)).month)==6 or (date.fromordinal(int(k)).day==5 and date.fromordinal(int(k)).month==1) :\n",
    "            dates3.append(k);\n",
    "            new_dates.append(str(date.fromordinal(int(k))))\n",
    "\n",
    "    for num, result in enumerate(results1['change_models']):\n",
    "        days = np.arange(result['start_day'], result['end_day'] + 1)\n",
    "        prediction_dates.append(days)\n",
    "        break_dates.append(result['break_day'])\n",
    "        start_dates.append(result['start_day'])\n",
    "        \n",
    "        intercept = result[band]['intercept']\n",
    "        coef = result[band]['coefficients']\n",
    "        \n",
    "        predicted_values.append(intercept + coef[0] * days +\n",
    "                                coef[1]*np.cos(days*1*2*np.pi/365.25) + coef[2]*np.sin(days*1*2*np.pi/365.25) +\n",
    "                                coef[3]*np.cos(days*2*2*np.pi/365.25) + coef[4]*np.sin(days*2*2*np.pi/365.25) +\n",
    "                                coef[5]*np.cos(days*3*2*np.pi/365.25) + coef[6]*np.sin(days*3*2*np.pi/365.25))\n",
    "         \n",
    "    predicted_values2 = []\n",
    "    prediction_dates2 = []\n",
    "    break_dates2 = []\n",
    "    start_dates2 = []\n",
    "    mask2 = np.array(results2['processing_mask'], dtype=bool)\n",
    "    new_dates2=[]\n",
    "    dates22=[]\n",
    "    for k in dates:\n",
    "        if (date.fromordinal(int(k)).day==16 and date.fromordinal(int(k)).month)==6 or (date.fromordinal(int(k)).day==5 and date.fromordinal(int(k)).month==1) :\n",
    "            dates22.append(k)\n",
    "            new_dates2.append(str(date.fromordinal(int(k))))\n",
    "\n",
    "    for num, result in enumerate(results2['change_models']):\n",
    "        days = np.arange(result['start_day'], result['end_day'] + 1)\n",
    "        prediction_dates2.append(days)\n",
    "        break_dates2.append(result['break_day'])\n",
    "        start_dates2.append(result['start_day'])\n",
    "        \n",
    "        intercept2 = result[band]['intercept']\n",
    "        coef2 = result[band]['coefficients']\n",
    "        \n",
    "        predicted_values2.append(intercept2 + coef2[0] * days +\n",
    "                                coef2[1]*np.cos(days*1*2*np.pi/365.25) + coef2[2]*np.sin(days*1*2*np.pi/365.25) +\n",
    "                                coef2[3]*np.cos(days*2*2*np.pi/365.25) + coef2[4]*np.sin(days*2*2*np.pi/365.25) +\n",
    "                                coef2[5]*np.cos(days*3*2*np.pi/365.25) + coef2[6]*np.sin(days*3*2*np.pi/365.25))  \n",
    "    plt.style.use('ggplot')\n",
    "    fg = plt.figure(figsize=(16,9), dpi=300)\n",
    "    #Removed y-axis value, but can standardize later\n",
    "    print(band)\n",
    "    if band=='ndvi':\n",
    "        a1 = fg.add_subplot(2, 1, 1, xlim=(min(dates), max(dates)))   \n",
    "    elif band=='nir':\n",
    "        a1 = fg.add_subplot(2, 1, 1, xlim=(min(dates), max(dates)))\n",
    "    else:\n",
    "        a1 = fg.add_subplot(2, 1, 1, xlim=(min(dates), max(dates)))\n",
    "    #Plot Model Fits\n",
    "    for _preddate, _predvalue in zip(prediction_dates, predicted_values):\n",
    "        a1.plot(_preddate, _predvalue, 'orange', linewidth=1)\n",
    "    for _preddate2, _predvalue2 in zip(prediction_dates2, predicted_values2):\n",
    "        a1.plot(_preddate2, _predvalue2, 'yellow', linewidth=1)\n",
    "\n",
    "    \n",
    "    \n",
    "\n",
    "    a1.plot(dates[mask], bands1[mask], 'g+') # Observed values\n",
    "    a1.plot(dates[~mask], bands1[~mask], 'k+') # Observed values masked out\n",
    "\n",
    "    #plot2\n",
    "    a1.plot(dates2[mask2], bands2[mask2], 'b+') # Observed values\n",
    "    a1.plot(dates2[~mask2], bands2[~mask2], 'b+') # Observed values masked out\n",
    "    for s in start_dates: a1.axvline(s, color='y')\n",
    "    for b in break_dates: a1.axvline(b, color='red')\n",
    "    for s in start_dates2: a1.axvline(s, color='y')\n",
    "    for b in break_dates2: a1.axvline(b, color='red')\n",
    "    plt.title(band)\n",
    "    plt.xticks(ticks=dates3,labels=new_dates)\n",
    "    \n",
    "    return a1\n",
    "bands = [\"blue\",\"green\",\"red\",\"nir\",\"ndvi\"]\n",
    "for k in range(len(bands)):\n",
    "    plot(bands[k],data1[k+1],data2[k+1],results1,results2,dates,dates2)\n",
    "\n"
   ],
   "outputs": [],
   "metadata": {}
  },
  {
   "cell_type": "code",
   "execution_count": null,
   "source": [],
   "outputs": [],
   "metadata": {}
  },
  {
   "cell_type": "code",
   "execution_count": null,
   "source": [],
   "outputs": [],
   "metadata": {}
  },
  {
   "cell_type": "code",
   "execution_count": null,
   "source": [],
   "outputs": [],
   "metadata": {}
  },
  {
   "cell_type": "code",
   "execution_count": null,
   "source": [],
   "outputs": [],
   "metadata": {}
  },
  {
   "cell_type": "code",
   "execution_count": null,
   "source": [],
   "outputs": [],
   "metadata": {}
  }
 ],
 "metadata": {
  "interpreter": {
   "hash": "aee8b7b246df8f9039afb4144a1f6fd8d2ca17a180786b69acc140d282b71a49"
  },
  "kernelspec": {
   "name": "python3",
   "display_name": "Python 3.9.6 64-bit"
  },
  "language_info": {
   "codemirror_mode": {
    "name": "ipython",
    "version": 3
   },
   "file_extension": ".py",
   "mimetype": "text/x-python",
   "name": "python",
   "nbconvert_exporter": "python",
   "pygments_lexer": "ipython3",
   "version": "3.9.6"
  },
  "orig_nbformat": 4
 },
 "nbformat": 4,
 "nbformat_minor": 2
}