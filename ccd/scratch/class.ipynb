{
 "cells": [
  {
   "cell_type": "code",
   "execution_count": 1,
   "source": [
    "from osgeo import gdal\n",
    "import numpy as np\n",
    "import ogr\n",
    "import geopandas as gpd\n",
    "import pandas as pd"
   ],
   "outputs": [],
   "metadata": {}
  },
  {
   "cell_type": "code",
   "execution_count": 2,
   "source": [
    "training = '/Users/arthur.platel/Desktop/Fusion_Images/CZU/PF-SR/2021-06-30.tif'\n",
    "training_ds= gdal.Open(training)\n",
    "cols=training_ds.RasterYSize\n",
    "rows=training_ds.RasterXSize\n",
    "gdf = gpd.read_file('/Users/arthur.platel/Desktop/Training/TrainingData63021.shp')\n",
    "class_names = gdf[\"layer\"].unique()\n",
    "class_ids=gdf['id'].unique()\n",
    "class_data=gdf['RMSE_1']\n",
    "print(class_names)\n",
    "print(class_ids)"
   ],
   "outputs": [
    {
     "output_type": "stream",
     "name": "stdout",
     "text": [
      "['barren' 'burned' 'redwood']\n",
      "['1' '2' '0']\n"
     ]
    }
   ],
   "metadata": {}
  },
  {
   "cell_type": "code",
   "execution_count": null,
   "source": [],
   "outputs": [],
   "metadata": {}
  },
  {
   "cell_type": "code",
   "execution_count": 3,
   "source": [
    "data=pd.DataFrame({\n",
    "    'RMSE Blue':[[gdf.iloc[k][2]for k in range(len(gdf))]][0],\n",
    "    'RMSE Green':[[gdf.iloc[k][3]for k in range(len(gdf))]][0],\n",
    "    'RMSE Red':[[gdf.iloc[k][4]for k in range(len(gdf))]][0],\n",
    "    'RMSE Nir':[[gdf.iloc[k][5]for k in range(len(gdf))]][0],\n",
    "    'RMSE Ndvi':[[gdf.iloc[k][6]for k in range(len(gdf))]][0],\n",
    "    'landcover':[[gdf.iloc[k][0]for k in range(len(gdf))]][0]\n",
    "})\n"
   ],
   "outputs": [],
   "metadata": {}
  },
  {
   "cell_type": "code",
   "execution_count": 4,
   "source": [
    "print(data.head(5))"
   ],
   "outputs": [
    {
     "output_type": "stream",
     "name": "stdout",
     "text": [
      "    RMSE Blue  RMSE Green    RMSE Red    RMSE Nir  RMSE Ndvi landcover\n",
      "0   79.078941   81.018654  126.194138  172.050674   0.110265         1\n",
      "1   92.207298   91.870010  139.448608  271.643463   0.123634         1\n",
      "2  128.219589  132.448212  208.383545  379.868317   0.164091         1\n",
      "3  100.595573  101.083458  130.614700  136.000275   0.108531         1\n",
      "4   64.786537   66.525497  116.477188  185.267014   0.102716         1\n"
     ]
    }
   ],
   "metadata": {}
  },
  {
   "cell_type": "code",
   "execution_count": 5,
   "source": [
    "from sklearn.model_selection import train_test_split\n",
    "\n",
    "X=data[['RMSE Blue','RMSE Green','RMSE Red','RMSE Nir','RMSE Ndvi']]  # Features\n",
    "y=data['landcover']  # Labels\n",
    "\n",
    "# Split dataset into training set and test set\n",
    "X_train, X_test, y_train, y_test = train_test_split(X, y, test_size=0.3) # 70% training and 30% test\n"
   ],
   "outputs": [],
   "metadata": {}
  },
  {
   "cell_type": "code",
   "execution_count": 6,
   "source": [
    "#Import Random Forest Model\n",
    "from sklearn.ensemble import RandomForestClassifier\n",
    "\n",
    "#Create a Gaussian Classifier\n",
    "clf=RandomForestClassifier(n_estimators=1000, oob_score=True)\n",
    "\n",
    "#Train the model using the training sets y_pred=clf.predict(X_test)\n",
    "clf.fit(X_train,y_train)\n",
    "\n",
    "y_pred=clf.predict(X_test)"
   ],
   "outputs": [],
   "metadata": {}
  },
  {
   "cell_type": "code",
   "execution_count": 7,
   "source": [
    "from sklearn.metrics import accuracy_score\n",
    "accuracy = accuracy_score(y_test,y_pred)\n",
    "\n",
    "print(f'Out-of-bag score estimate: {clf.oob_score_:.3}')\n",
    "print(f'Mean accuracy score: {accuracy:.3}')"
   ],
   "outputs": [
    {
     "output_type": "stream",
     "name": "stdout",
     "text": [
      "Out-of-bag score estimate: 0.92\n",
      "Mean accuracy score: 0.959\n"
     ]
    }
   ],
   "metadata": {}
  },
  {
   "cell_type": "code",
   "execution_count": 8,
   "source": [],
   "outputs": [
    {
     "output_type": "stream",
     "name": "stdout",
     "text": [
      "id                                                      1\n",
      "layer                                              barren\n",
      "RMSE_1                                          92.207298\n",
      "RMSE_2                                           91.87001\n",
      "RMSE_3                                         139.448608\n",
      "RMSE_4                                         271.643463\n",
      "RMSE_5                                           0.123634\n",
      "blueCoefs_                                       1.270384\n",
      "blueCoef_1                                    -236.077652\n",
      "blueCoef_2                                      -88.98378\n",
      "GreenCoefs                                       1.340878\n",
      "GreenCoe_1                                    -172.810089\n",
      "GreenCoe_2                                     -91.570343\n",
      "RedCoefs1                                        2.407123\n",
      "RedCoefs2                                     -227.943344\n",
      "RedCoefs3                                     -152.932068\n",
      "NirCoefs_1                                      -3.479419\n",
      "NirCoefs_2                                    -865.362061\n",
      "NirCoefs_3                                     198.119965\n",
      "NdviCoefs1                                      -0.001356\n",
      "geometry      POINT (-122.256130678861 37.19562572939687)\n",
      "Name: 1, dtype: object\n",
      "id                                                       2\n",
      "layer                                               burned\n",
      "RMSE_1                                           23.969934\n",
      "RMSE_2                                           27.916693\n",
      "RMSE_3                                           47.369797\n",
      "RMSE_4                                          156.628021\n",
      "RMSE_5                                            0.058037\n",
      "blueCoefs_                                         0.38756\n",
      "blueCoef_1                                     -108.030594\n",
      "blueCoef_2                                        18.77474\n",
      "GreenCoefs                                        0.219865\n",
      "GreenCoe_1                                      -88.904861\n",
      "GreenCoe_2                                       36.509083\n",
      "RedCoefs1                                         1.121432\n",
      "RedCoefs2                                       -65.111839\n",
      "RedCoefs3                                       -35.750309\n",
      "NirCoefs_1                                       -0.730684\n",
      "NirCoefs_2                                     -251.418503\n",
      "NirCoefs_3                                       59.131741\n",
      "NdviCoefs1                                       -0.000471\n",
      "geometry      POINT (-122.2571959687741 37.18462594902089)\n",
      "Name: 200, dtype: object\n"
     ]
    }
   ],
   "metadata": {}
  }
 ],
 "metadata": {
  "orig_nbformat": 4,
  "language_info": {
   "name": "python",
   "version": "3.9.6",
   "mimetype": "text/x-python",
   "codemirror_mode": {
    "name": "ipython",
    "version": 3
   },
   "pygments_lexer": "ipython3",
   "nbconvert_exporter": "python",
   "file_extension": ".py"
  },
  "kernelspec": {
   "name": "python3",
   "display_name": "Python 3.9.6 64-bit"
  },
  "interpreter": {
   "hash": "aee8b7b246df8f9039afb4144a1f6fd8d2ca17a180786b69acc140d282b71a49"
  }
 },
 "nbformat": 4,
 "nbformat_minor": 2
}