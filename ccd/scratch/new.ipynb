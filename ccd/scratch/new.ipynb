{
 "cells": [
  {
   "cell_type": "code",
   "execution_count": 1,
   "source": [
    "import CCD_Pool as CCD\n",
    "import FusionFunctions as FF\n",
    "from parameters import defaults as dfs"
   ],
   "outputs": [],
   "metadata": {}
  },
  {
   "cell_type": "code",
   "execution_count": 2,
   "source": [
    "images=FF.sortImages(dfs[\"parent_dir\"])\n",
    "shape=FF.shape(images)\n",
    "emptyList=[[[] for y in range(shape[2])]for x in range(shape[1])]\n",
    "#print(len(emptyList[0][0]))\n",
    "ccdRows=CCD.CCD_row(0,1,images,emptyList)\n",
    "#print(ccdRows[1][800])"
   ],
   "outputs": [
    {
     "output_type": "stream",
     "name": "stdout",
     "text": [
      "image 100 of 608 completed in: 0.03464698791503906 \n",
      "\n",
      "image 200 of 608 completed in: 0.03548288345336914 \n",
      "\n",
      "image 300 of 608 completed in: 0.03345298767089844 \n",
      "\n",
      "image 400 of 608 completed in: 0.04280519485473633 \n",
      "\n",
      "image 500 of 608 completed in: 0.0377659797668457 \n",
      "\n",
      "image 600 of 608 completed in: 0.0390782356262207 \n",
      "\n",
      "ccding pixel 0\n",
      "ccding pixel 1\n",
      "ccding pixel 2\n",
      "ccding pixel 3\n",
      "ccding pixel 4\n"
     ]
    }
   ],
   "metadata": {}
  },
  {
   "cell_type": "code",
   "execution_count": 4,
   "source": [
    "def newArray(CCD_out,band,type,date):\n",
    "    array=[[]]\n",
    "    for x in CCD_out:\n",
    "        for y in x:\n",
    "            for seq in y:\n",
    "                if seq[\"start_day\"]<=date<=seq[\"break_day\"]:\n",
    "                    print(seq[str(band)][str(type)])\n",
    "\n",
    "#     [[]]\n",
    "# import numpy as np\n",
    "# print(len(emptyList[0]))\n",
    "newArray(emptyList,\"blue\",\"rmse\",736718)"
   ],
   "outputs": [
    {
     "output_type": "stream",
     "name": "stdout",
     "text": [
      "20.41135651280693\n",
      "22.740777360390105\n",
      "24.313123084147115\n",
      "27.320766615975604\n",
      "30.56133831215069\n"
     ]
    }
   ],
   "metadata": {}
  }
 ],
 "metadata": {
  "orig_nbformat": 4,
  "language_info": {
   "name": "python",
   "version": "3.9.6",
   "mimetype": "text/x-python",
   "codemirror_mode": {
    "name": "ipython",
    "version": 3
   },
   "pygments_lexer": "ipython3",
   "nbconvert_exporter": "python",
   "file_extension": ".py"
  },
  "kernelspec": {
   "name": "python3",
   "display_name": "Python 3.9.6 64-bit"
  },
  "interpreter": {
   "hash": "aee8b7b246df8f9039afb4144a1f6fd8d2ca17a180786b69acc140d282b71a49"
  }
 },
 "nbformat": 4,
 "nbformat_minor": 2
}