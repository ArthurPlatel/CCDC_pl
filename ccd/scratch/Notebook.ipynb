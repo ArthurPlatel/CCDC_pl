{
 "cells": [
  {
   "cell_type": "code",
   "execution_count": null,
   "source": [
    "import os\n",
    "import sys\n",
    "module_path = os.path.abspath(os.path.join('..'))\n",
    "if module_path not in sys.path:\n",
    "    sys.path.insert(0, module_path)\n",
    "import ccd.parameters\n",
    "import ccd\n",
    "#from ccd.main import fusion_image\n",
    "import numpy as np\n",
    "from datetime import datetime\n",
    "from datetime import date\n",
    "import time\n",
    "from data_input import line\n",
    "import matplotlib.pyplot as plt"
   ],
   "outputs": [],
   "metadata": {}
  },
  {
   "cell_type": "code",
   "execution_count": null,
   "source": [
    "image_dir = '/Users/arthur.platel/Desktop/trial2' #Fusion_imperial' #YATSM/fusion_images/'\n"
   ],
   "outputs": [],
   "metadata": {}
  },
  {
   "cell_type": "code",
   "execution_count": null,
   "source": [
    "import glob\n",
    "result=line(image_dir,20)\n"
   ],
   "outputs": [],
   "metadata": {}
  },
  {
   "cell_type": "code",
   "execution_count": null,
   "source": [
    "#def pixel_array(pixel_x,pixel_y, dict):\n",
    "#   pixel=dict[(pixel_x,pixel_y)]\n",
    "#   return np.array([pixel['dates'],pixel['blue'],pixel[\"green\"], pixel['red'], pixel['nir'], pixel['ndvi'],pixel['qas']])\n",
    "\n",
    "#data = pixel_array(150,150,result)\n",
    "#dates,blues,greens, reds, nirs, ndvis, qas = data\n"
   ],
   "outputs": [],
   "metadata": {}
  },
  {
   "cell_type": "code",
   "execution_count": null,
   "source": [
    "params = {'QA_BITPACKED': False,\n",
    "              'QA_FILL': 255,\n",
    "              'QA_CLEAR': 0,\n",
    "              'QA_WATER': 1,\n",
    "              'QA_SHADOW': 2,\n",
    "              'QA_SNOW': 3,\n",
    "              'QA_CLOUD': 4}\n",
    "results = ccd.detect(dates, greens,blues, reds, nirs, ndvis, qas, params)"
   ],
   "outputs": [],
   "metadata": {}
  },
  {
   "cell_type": "code",
   "execution_count": null,
   "source": [
    "from datetime import date\n",
    "\n",
    "def plot(band,bands,results,dates):\n",
    "    predicted_values = []\n",
    "    prediction_dates = []\n",
    "    break_dates = []\n",
    "    start_dates = []\n",
    "    mask = np.array(results['processing_mask'], dtype=bool)\n",
    "\n",
    "    for num, result in enumerate(results['change_models']):\n",
    "        days = np.arange(result['start_day'], result['end_day'] + 1)\n",
    "        prediction_dates.append(days)\n",
    "        break_dates.append(result['break_day'])\n",
    "        start_dates.append(result['start_day'])\n",
    "        \n",
    "        intercept = result[band]['intercept']\n",
    "        coef = result[band]['coefficients']\n",
    "        \n",
    "        predicted_values.append(intercept + coef[0] * days +\n",
    "                                coef[1]*np.cos(days*1*2*np.pi/365.25) + coef[2]*np.sin(days*1*2*np.pi/365.25) +\n",
    "                                coef[3]*np.cos(days*2*2*np.pi/365.25) + coef[4]*np.sin(days*2*2*np.pi/365.25) +\n",
    "                                coef[5]*np.cos(days*3*2*np.pi/365.25) + coef[6]*np.sin(days*3*2*np.pi/365.25))\n",
    "        \n",
    "    plt.style.use('ggplot')\n",
    "    fg = plt.figure(figsize=(16,9), dpi=300)\n",
    "    if band=='ndvi':\n",
    "        a1 = fg.add_subplot(2, 1, 1, xlim=(min(dates), max(dates)) )   \n",
    "    elif band=='nir':\n",
    "        a1 = fg.add_subplot(2, 1, 1, xlim=(min(dates), max(dates)), ylim=(0, 5000))\n",
    "    else:\n",
    "        a1 = fg.add_subplot(2, 1, 1, xlim=(min(dates), max(dates)), ylim=(0, 800))\n",
    "\n",
    "    for _preddate, _predvalue in zip(prediction_dates, predicted_values):\n",
    "        a1.plot(_preddate, _predvalue, 'orange', linewidth=1)\n",
    "\n",
    "    # fg = plt.figure(figsize=(16,9), dpi=300)\n",
    "    # a1 = fg.add_subplot(2, 1, 1, xlim=(min(dates), max(dates), ylim=(-5000, 5000))\n",
    "\n",
    "    # Predicted curves\n",
    "    for _preddate, _predvalue in zip(prediction_dates, predicted_values):\n",
    "        a1.plot(_preddate, _predvalue, 'orange', linewidth=2)\n",
    "\n",
    "    a1.plot(dates[mask], bands[mask], 'g+') # Observed values\n",
    "    a1.plot(dates[~mask], bands[~mask], 'k+') # Observed values masked out\n",
    "    for b in break_dates: a1.axvline(b)\n",
    "    for s in start_dates: a1.axvline(s, color='r')\n",
    "    plt.title(band)\n",
    "    return a1\n",
    "\n",
    "    \n",
    "bands = [\"blue\",\"green\",\"red\",\"nir\",\"ndvi\"]\n",
    "for k in range(len(bands)):\n",
    "    plot(bands[k],data[k+1],results,dates)"
   ],
   "outputs": [],
   "metadata": {}
  },
  {
   "cell_type": "code",
   "execution_count": null,
   "source": [
    "print(results)\n",
    "# final=fusion_image(image_dir,bands)\n",
    "# print(final)"
   ],
   "outputs": [],
   "metadata": {}
  },
  {
   "cell_type": "code",
   "execution_count": null,
   "source": [
    "print()\n",
    "# def pixel_array(pixel_x,pixel_y,dict)\n",
    "#     return nparray.dict[]"
   ],
   "outputs": [],
   "metadata": {}
  },
  {
   "cell_type": "code",
   "execution_count": null,
   "source": [
    "# def create_raster(day,band, type,dict,shape):\n",
    "#     band_array=np.empty(shape)\n",
    "#     for x in range(shape[0]):\n",
    "#         for y in range(shape[1]):\n",
    "#             print(\"pixel {},{}\".format(x,y))\n",
    "#             start_time = time.time()\n",
    "#             for num in dict[x,y]:\n",
    "#                 print(\"RMSE: {}: \".format(num[\"blue\"][\"rmse\"]))\n",
    "#             pixel_time=time.time()-start_time\n",
    "\n",
    "# create_raster(778990,\"blue\", \"rmse\", final, (2,2))"
   ],
   "outputs": [],
   "metadata": {}
  }
 ],
 "metadata": {
  "orig_nbformat": 4,
  "language_info": {
   "name": "python"
  }
 },
 "nbformat": 4,
 "nbformat_minor": 2
}